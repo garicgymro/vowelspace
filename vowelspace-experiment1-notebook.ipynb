{
 "cells": [
  {
   "cell_type": "markdown",
   "metadata": {},
   "source": [
    "In this version of the Vowelspace experiment there are three color regions in the space (blue in the bottom half; green in the top right quadrant and green in the top left). The spaces can be either blocks of color (where R, G and B values all equal 1) or gradated (where R, G and B values vary from 0 to 1 as the finger moves out from the center). Current pilots are using the latter. If more than one finger is used the RGB values are combined so that, for instance, with one finger at the outer edge of the blue area and one at the outer edge of the red area, the values will be R:1 G:0 B:1. If two or more fingers are in the same color space, the highest value is used (currently — probably the mean should be used). A maximum of three fingers can be used (if more are used, the color panel goes grey). Each value is then modified as follows. The mean distance between fingers is calculated and divided by the maximum distance (i.e., the distance between diagonal corners) to produce a value between 0 and 1. The RGB values are then multiplied by this value. If one finger is used, the modifier value is set as 0.15. This means that the brightness and range of colors increases as effort increases."
   ]
  },
  {
   "cell_type": "raw",
   "metadata": {},
   "source": [
    "In Experiment 1 we manipulate the feedback to the sender (colors alone or colors on the small panel and finger positions on the large panel). The question is whether this will influence the kind of systems that are produced, and how the constraints of effort and discernibility are satisfied."
   ]
  },
  {
   "cell_type": "markdown",
   "metadata": {},
   "source": [
    "Future questions include:\n",
    "* What are the points of attraction?\n",
    "    * What are their properties?\n",
    "* What is the role of social learning (using iterated learning)?\n",
    "    * Is learning a system easier than constructing one? In what ways?\n",
    "    * Does iterated learning lead to divergence or convergence\n",
    "        * Per Griffiths et al. it amplifies biases (finds attractors)\n",
    "        * Per Caldwell, Richerson & Boyd (etc.) divergent lineages are a hallmark of evolution\n",
    "    * Social learning is more collaborative than often assumed (see work of Michael Goldstein at B.A.B.Y Lab, Cornell)\n",
    "    * Asymmetry between experienced and inexperienced players\n",
    "        * Real and fake\n",
    "        * Different kinds of asymmetry (experience, prestige etc.)\n",
    "        \n",
    "        \n",
    "    \n",
    "    "
   ]
  },
  {
   "cell_type": "markdown",
   "metadata": {},
   "source": [
    "Motivations for this approach:\n",
    "* Allows us to focus on process, not just result\n",
    "* Abstracts away from sound-specific properties"
   ]
  },
  {
   "cell_type": "code",
   "execution_count": null,
   "metadata": {
    "collapsed": true
   },
   "outputs": [],
   "source": []
  }
 ],
 "metadata": {
  "anaconda-cloud": {},
  "kernelspec": {
   "display_name": "Python 2",
   "language": "python",
   "name": "python2"
  },
  "language_info": {
   "codemirror_mode": {
    "name": "ipython",
    "version": 2
   },
   "file_extension": ".py",
   "mimetype": "text/x-python",
   "name": "python",
   "nbconvert_exporter": "python",
   "pygments_lexer": "ipython2",
   "version": "2.7.12"
  }
 },
 "nbformat": 4,
 "nbformat_minor": 1
}
